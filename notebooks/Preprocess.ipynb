{
 "cells": [
  {
   "cell_type": "code",
   "execution_count": 1,
   "metadata": {},
   "outputs": [],
   "source": [
    "import numpy as np\n",
    "import os\n",
    "import cv2\n",
    "import matplotlib.pyplot as plt\n",
    "import random"
   ]
  },
  {
   "cell_type": "code",
   "execution_count": 2,
   "metadata": {},
   "outputs": [],
   "source": [
    "%matplotlib inline"
   ]
  },
  {
   "cell_type": "code",
   "execution_count": 3,
   "metadata": {},
   "outputs": [],
   "source": [
    "PATH = \"../../kagglecatsanddogs_3367a/PetImages/\"\n",
    "CAT = PATH+\"Cat/\"\n",
    "DOG = PATH+\"Dog/\""
   ]
  },
  {
   "cell_type": "markdown",
   "metadata": {},
   "source": [
    "For some reason OpenCV was not loading all the images at once. Thus I have used two loops to read images for CATS and DOGS individually."
   ]
  },
  {
   "cell_type": "code",
   "execution_count": 4,
   "metadata": {},
   "outputs": [],
   "source": [
    "data = []\n",
    "\n",
    "for images in os.listdir(DOG):\n",
    "    image_path = os.path.join(DOG,images)\n",
    "    image = cv2.imread(image_path, cv2.COLOR_BGR2RGB)\n",
    "    if image is not None:\n",
    "        image = cv2.resize(image,(64,64))\n",
    "        data.append([np.array(image),np.array([0.0,1.0])])"
   ]
  },
  {
   "cell_type": "code",
   "execution_count": 5,
   "metadata": {},
   "outputs": [],
   "source": [
    "for images in os.listdir(CAT):\n",
    "    image_path = os.path.join(CAT,images)\n",
    "    image = cv2.imread(image_path, cv2.COLOR_BGR2RGB)\n",
    "    if image is not None:\n",
    "        image = cv2.resize(image,(64,64))\n",
    "        data.append([np.array(image),np.array([1.0,0.0])])"
   ]
  },
  {
   "cell_type": "code",
   "execution_count": 6,
   "metadata": {},
   "outputs": [
    {
     "data": {
      "text/plain": [
       "24944"
      ]
     },
     "execution_count": 6,
     "metadata": {},
     "output_type": "execute_result"
    }
   ],
   "source": [
    "len(data)"
   ]
  },
  {
   "cell_type": "code",
   "execution_count": 7,
   "metadata": {},
   "outputs": [
    {
     "data": {
      "text/plain": [
       "[array([[[ 28,  36,  66],\n",
       "         [ 28,  38,  62],\n",
       "         [ 27,  35,  64],\n",
       "         ...,\n",
       "         [ 79,  97, 127],\n",
       "         [ 80,  98, 121],\n",
       "         [103, 126, 151]],\n",
       " \n",
       "        [[ 27,  35,  65],\n",
       "         [ 32,  42,  66],\n",
       "         [ 26,  34,  63],\n",
       "         ...,\n",
       "         [ 71,  93, 122],\n",
       "         [ 80, 103, 125],\n",
       "         [ 97, 125, 150]],\n",
       " \n",
       "        [[ 22,  33,  55],\n",
       "         [ 31,  41,  66],\n",
       "         [ 25,  33,  61],\n",
       "         ...,\n",
       "         [ 88, 108, 137],\n",
       "         [ 94, 115, 136],\n",
       "         [108, 135, 156]],\n",
       " \n",
       "        ...,\n",
       " \n",
       "        [[207, 203, 211],\n",
       "         [210, 208, 214],\n",
       "         [194, 194, 200],\n",
       "         ...,\n",
       "         [187, 182, 182],\n",
       "         [185, 177, 177],\n",
       "         [194, 184, 184]],\n",
       " \n",
       "        [[196, 192, 198],\n",
       "         [187, 185, 191],\n",
       "         [189, 189, 195],\n",
       "         ...,\n",
       "         [195, 189, 189],\n",
       "         [191, 183, 183],\n",
       "         [201, 191, 191]],\n",
       " \n",
       "        [[197, 194, 200],\n",
       "         [194, 190, 196],\n",
       "         [186, 183, 189],\n",
       "         ...,\n",
       "         [194, 189, 188],\n",
       "         [210, 200, 200],\n",
       "         [219, 208, 208]]], dtype=uint8), array([0., 1.])]"
      ]
     },
     "execution_count": 7,
     "metadata": {},
     "output_type": "execute_result"
    }
   ],
   "source": [
    "data[0]"
   ]
  },
  {
   "cell_type": "code",
   "execution_count": 8,
   "metadata": {},
   "outputs": [],
   "source": [
    "random.seed(0)\n",
    "random.shuffle(data)"
   ]
  },
  {
   "cell_type": "code",
   "execution_count": 9,
   "metadata": {},
   "outputs": [],
   "source": [
    "X = []\n",
    "y = []\n",
    "\n",
    "for features,labels in data:\n",
    "    X.append(features)\n",
    "    y.append(labels)"
   ]
  },
  {
   "cell_type": "code",
   "execution_count": 10,
   "metadata": {},
   "outputs": [],
   "source": [
    "for i in range(len(X)):\n",
    "    X[i] = X[i].reshape(1,-1)\n",
    "    X[i] = X[i]/255\n",
    "    X[i] = X[i].squeeze()\n",
    "    X[i] = X[i].tolist()"
   ]
  },
  {
   "cell_type": "code",
   "execution_count": 11,
   "metadata": {},
   "outputs": [
    {
     "data": {
      "text/plain": [
       "24944"
      ]
     },
     "execution_count": 11,
     "metadata": {},
     "output_type": "execute_result"
    }
   ],
   "source": [
    "len(y)"
   ]
  },
  {
   "cell_type": "code",
   "execution_count": 22,
   "metadata": {},
   "outputs": [
    {
     "data": {
      "image/png": "[encoded data removed]",
      "text/plain": [
       "<Figure size 432x288 with 1 Axes>"
      ]
     },
     "metadata": {
      "needs_background": "light"
     },
     "output_type": "display_data"
    }
   ],
   "source": [
    "# from PIL import Image\n",
    "# # f1 = open(\"../test_img1.data\",\"a+\")\n",
    "# # f2 = open(\"../test_img2.data\",\"a+\")\n",
    "# test_img1 = X[8000] #Dog\n",
    "# test_img2 = X[8001] #cat\n",
    "# # for pixel_values in test_img1:\n",
    "# #     f1.write(\"%s \"%pixel_values)\n",
    "# # for pixel_values in test_img2:\n",
    "# # #     f2.write(\"%s \"%pixel_values)\n",
    "# # test_img1 = np.array(test_img1)\n",
    "# # test_img2 = np.array(test_img2)\n",
    "# # test_img1 = test_img1.reshape((64,64,3)).astype('uint8')\n",
    "# # test_img2 = test_img2.reshape((64,64,3)).astype('uint8')\n",
    "# # temp_image = Image.fromarray(test_img2)\n",
    "# # plt.imshow(temp_image)\n",
    "# # plt.show()\n"
   ]
  },
  {
   "cell_type": "code",
   "execution_count": 12,
   "metadata": {},
   "outputs": [],
   "source": [
    "f = open(\"../data/X_train.data\",\"a+\")\n",
    "for images in X[:4000]:\n",
    "    for pixel_values in images:\n",
    "        f.write(\"%s \"%pixel_values)\n",
    "f.close()\n",
    "f = open(\"../data/X_cv.data\",\"a+\")\n",
    "for images in X[4000:5000]:\n",
    "    for pixel_values in images:\n",
    "        f.write(\"%s \"%pixel_values)\n",
    "f.close()\n",
    "f = open(\"../data/X_test.data\",\"a+\")\n",
    "for images in X[5000:6000]:\n",
    "    for pixel_values in images:\n",
    "        f.write(\"%s \"%pixel_values)\n",
    "f.close()"
   ]
  },
  {
   "cell_type": "code",
   "execution_count": 13,
   "metadata": {},
   "outputs": [],
   "source": [
    "f = open(\"../data/y_train.data\",\"a+\")\n",
    "for labels in y[:4000]:\n",
    "    for class_scores in labels:\n",
    "        f.write(\"%s \"%class_scores)\n",
    "f.close()\n",
    "f = open(\"../data/y_cv.data\",\"a+\")\n",
    "for labels in y[4000:5000]:\n",
    "    for class_scores in labels:\n",
    "        f.write(\"%s \"%class_scores)\n",
    "f.close()\n",
    "f = open(\"../data/y_test.data\",\"a+\")\n",
    "for labels in y[5000:6000]:\n",
    "    for class_scores in labels:\n",
    "        f.write(\"%s \"%class_scores)\n",
    "f.close()\n",
    "\n"
   ]
  },
  {
   "cell_type": "code",
   "execution_count": null,
   "metadata": {},
   "outputs": [],
   "source": []
  },
  {
   "cell_type": "markdown",
   "metadata": {},
   "source": []
  },
  {
   "cell_type": "code",
   "execution_count": null,
   "metadata": {},
   "outputs": [],
   "source": []
  },
  {
   "cell_type": "code",
   "execution_count": null,
   "metadata": {},
   "outputs": [],
   "source": []
  }
 ],
 "metadata": {
  "kernelspec": {
   "display_name": "Python 3",
   "language": "python",
   "name": "python3"
  },
  "language_info": {
   "codemirror_mode": {
    "name": "ipython",
    "version": 3
   },
   "file_extension": ".py",
   "mimetype": "text/x-python",
   "name": "python",
   "nbconvert_exporter": "python",
   "pygments_lexer": "ipython3",
   "version": "3.7.4"
  }
 },
 "nbformat": 4,
 "nbformat_minor": 2
}
