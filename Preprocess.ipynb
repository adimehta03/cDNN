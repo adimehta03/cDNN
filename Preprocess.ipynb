{
 "cells": [
  {
   "cell_type": "code",
   "execution_count": 1,
   "metadata": {},
   "outputs": [],
   "source": [
    "import numpy as np\n",
    "import os\n",
    "import cv2\n",
    "import matplotlib.pyplot as plt\n",
    "import random"
   ]
  },
  {
   "cell_type": "code",
   "execution_count": 2,
   "metadata": {},
   "outputs": [],
   "source": [
    "%matplotlib inline"
   ]
  },
  {
   "cell_type": "code",
   "execution_count": 3,
   "metadata": {},
   "outputs": [],
   "source": [
    "PATH = \"../kagglecatsanddogs_3367a/PetImages/\"\n",
    "CAT = PATH+\"Cat/\"\n",
    "DOG = PATH+\"Dog/\""
   ]
  },
  {
   "cell_type": "markdown",
   "metadata": {},
   "source": [
    "For some reason OpenCV was not loading all the images at once. Thus I have used two loops to read images for CATS and DOGS individually."
   ]
  },
  {
   "cell_type": "code",
   "execution_count": 4,
   "metadata": {},
   "outputs": [],
   "source": [
    "data = []\n",
    "\n",
    "for images in os.listdir(DOG):\n",
    "    image_path = os.path.join(DOG,images)\n",
    "    image = cv2.imread(image_path, cv2.COLOR_BGR2RGB)\n",
    "    if image is not None:\n",
    "        image = cv2.resize(image,(80,80))\n",
    "        data.append([np.array(image),1])"
   ]
  },
  {
   "cell_type": "code",
   "execution_count": 5,
   "metadata": {},
   "outputs": [],
   "source": [
    "for images in os.listdir(CAT):\n",
    "    image_path = os.path.join(CAT,images)\n",
    "    image = cv2.imread(image_path, cv2.COLOR_BGR2RGB)\n",
    "    if image is not None:\n",
    "        image = cv2.resize(image,(80,80))\n",
    "        data.append([np.array(image),0])"
   ]
  },
  {
   "cell_type": "code",
   "execution_count": 6,
   "metadata": {},
   "outputs": [
    {
     "data": {
      "text/plain": [
       "24946"
      ]
     },
     "execution_count": 6,
     "metadata": {},
     "output_type": "execute_result"
    }
   ],
   "source": [
    "len(data)"
   ]
  },
  {
   "cell_type": "code",
   "execution_count": 7,
   "metadata": {},
   "outputs": [
    {
     "data": {
      "text/plain": [
       "[array([[[ 26,  34,  64],\n",
       "         [ 22,  32,  56],\n",
       "         [ 24,  33,  59],\n",
       "         ...,\n",
       "         [ 90, 105, 131],\n",
       "         [ 86, 107, 128],\n",
       "         [110, 134, 160]],\n",
       " \n",
       "        [[ 23,  31,  61],\n",
       "         [ 19,  29,  54],\n",
       "         [ 25,  34,  60],\n",
       "         ...,\n",
       "         [ 98, 115, 141],\n",
       "         [ 69,  93, 113],\n",
       "         [111, 137, 163]],\n",
       " \n",
       "        [[ 22,  30,  59],\n",
       "         [ 18,  27,  52],\n",
       "         [ 30,  39,  66],\n",
       "         ...,\n",
       "         [ 93, 113, 137],\n",
       "         [ 79, 105, 125],\n",
       "         [104, 133, 157]],\n",
       " \n",
       "        ...,\n",
       " \n",
       "        [[213, 208, 214],\n",
       "         [191, 189, 195],\n",
       "         [179, 178, 184],\n",
       "         ...,\n",
       "         [184, 180, 178],\n",
       "         [204, 196, 196],\n",
       "         [217, 207, 207]],\n",
       " \n",
       "        [[186, 181, 187],\n",
       "         [182, 180, 186],\n",
       "         [188, 188, 194],\n",
       "         ...,\n",
       "         [189, 184, 183],\n",
       "         [210, 202, 202],\n",
       "         [193, 183, 183]],\n",
       " \n",
       "        [[196, 194, 200],\n",
       "         [186, 182, 188],\n",
       "         [194, 189, 196],\n",
       "         ...,\n",
       "         [194, 186, 186],\n",
       "         [208, 198, 198],\n",
       "         [216, 202, 203]]], dtype=uint8), 1]"
      ]
     },
     "execution_count": 7,
     "metadata": {},
     "output_type": "execute_result"
    }
   ],
   "source": [
    "data[0]"
   ]
  },
  {
   "cell_type": "code",
   "execution_count": 8,
   "metadata": {},
   "outputs": [],
   "source": [
    "random.shuffle(data)"
   ]
  },
  {
   "cell_type": "code",
   "execution_count": 12,
   "metadata": {},
   "outputs": [],
   "source": [
    "X = []\n",
    "y = []\n",
    "\n",
    "for features,labels in data:\n",
    "    X.append(features)\n",
    "    y.append(labels)"
   ]
  },
  {
   "cell_type": "code",
   "execution_count": 13,
   "metadata": {},
   "outputs": [],
   "source": [
    "for i in range(len(X)):\n",
    "    X[i] = X[i].reshape(1,-1)\n",
    "    X[i] = X[i]/255\n",
    "    X[i] = X[i].squeeze()\n",
    "    X[i] = X[i].tolist()"
   ]
  },
  {
   "cell_type": "code",
   "execution_count": 15,
   "metadata": {},
   "outputs": [
    {
     "data": {
      "text/plain": [
       "24946"
      ]
     },
     "execution_count": 15,
     "metadata": {},
     "output_type": "execute_result"
    }
   ],
   "source": [
    "len(y)"
   ]
  },
  {
   "cell_type": "code",
   "execution_count": 16,
   "metadata": {},
   "outputs": [
    {
     "data": {
      "text/plain": [
       "24946"
      ]
     },
     "execution_count": 16,
     "metadata": {},
     "output_type": "execute_result"
    }
   ],
   "source": [
    "len(X)"
   ]
  },
  {
   "cell_type": "code",
   "execution_count": 18,
   "metadata": {},
   "outputs": [],
   "source": [
    "def to_file(filename,data):\n",
    "    "
   ]
  },
  {
   "cell_type": "code",
   "execution_count": 21,
   "metadata": {},
   "outputs": [],
   "source": [
    "f = open(\"X_train.data\",\"a+\")\n",
    "for images in X[:200]:\n",
    "    for pixel_values in images:\n",
    "        f.write(\"%s \"%pixel_values)\n",
    "f.close()\n",
    "\n",
    "f = open(\"X_cv.data\",\"a+\")\n",
    "for images in X[201:400]:\n",
    "    for pixel_values in images:\n",
    "        f.write(\"%s \"%pixel_values)\n",
    "f.close()\n",
    "\n",
    "f = open(\"X_test.data\",\"a+\")\n",
    "for images in X[501:700]:\n",
    "    for pixel_values in images:\n",
    "        f.write(\"%s \"%pixel_values)\n",
    "f.close()"
   ]
  },
  {
   "cell_type": "code",
   "execution_count": 22,
   "metadata": {},
   "outputs": [],
   "source": [
    "f = open(\"y_train.data\",\"a+\")\n",
    "for labels in y[:200]:\n",
    "    f.write(\"%s \"%labels)\n",
    "f.close()\n",
    "f = open(\"y_cv.data\",\"a+\")\n",
    "for labels in y[201:400]:\n",
    "    f.write(\"%s \"%labels)\n",
    "f.close()\n",
    "f = open(\"y_test.data\",\"a+\")\n",
    "for labels in y[501:700]:\n",
    "    f.write(\"%s \"%labels)\n",
    "f.close()"
   ]
  },
  {
   "cell_type": "code",
   "execution_count": null,
   "metadata": {},
   "outputs": [],
   "source": []
  }
 ],
 "metadata": {
  "kernelspec": {
   "display_name": "Python 3",
   "language": "python",
   "name": "python3"
  },
  "language_info": {
   "codemirror_mode": {
    "name": "ipython",
    "version": 3
   },
   "file_extension": ".py",
   "mimetype": "text/x-python",
   "name": "python",
   "nbconvert_exporter": "python",
   "pygments_lexer": "ipython3",
   "version": "3.7.4"
  }
 },
 "nbformat": 4,
 "nbformat_minor": 2
}
